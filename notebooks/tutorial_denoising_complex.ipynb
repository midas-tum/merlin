{
 "cells": [
  {
   "cell_type": "markdown",
   "metadata": {
    "collapsed": false,
    "pycharm": {
     "name": "#%% md\n"
    }
   },
   "source": [
    "# **Example 03: Denoising on complex-valued data with complex-valued operations**\n",
    "We first define the data pipelines to feed the data into training, validation and test set. The MNIST database is used for showcasing. Since MNIST are real-valued images, a phase is simulated and added to the images to generate a complex-valued input. A white Gaussian noise is simulated retrospectively and added to the data. The task of the network is to denoise the images with complex-valued operations. You can compare the different processing to the pure real-valued case (Example 01) and to handling the complex-valued data in 2 real-valued channels (Example 03).\n",
    "\n",
    "To enable GPU support in Google Colab, please go to `Edit -> Notebook settings` and select `GPU` as hardware accelerator."
   ]
  },
  {
   "cell_type": "code",
   "execution_count": null,
   "metadata": {
    "collapsed": false,
    "pycharm": {
     "name": "#%%\n"
    }
   },
   "outputs": [],
   "source": [
    "# inspect the available GPU hardware\n",
    "!ln -sf /opt/bin/nvidia-smi /usr/bin/nvidia-smi\n",
    "!nvidia-smi"
   ]
  },
  {
   "cell_type": "markdown",
   "metadata": {
    "collapsed": false
   },
   "source": [
    "## Database pipeline\n",
    "Here starts the main part of the script. First define the data pipelines (in the form of generator functions) for training, validation and test set. Retrospective noise simulation is performed inside the generator functions."
   ]
  },
  {
   "cell_type": "code",
   "execution_count": 1,
   "metadata": {},
   "outputs": [
    {
     "name": "stdout",
     "output_type": "stream",
     "text": [
      "Training batches to process: 1500\n",
      "Validation batches to process: 375\n",
      "Test samples to process: 10000\n"
     ]
    }
   ],
   "source": [
    "import tensorflow as tf\n",
    "import numpy as np\n",
    "import tutorial\n",
    "import merlintf\n",
    "\n",
    "# initialize some parameters\n",
    "noise_level = 0.5 # simulated additive white Gaussian noise level\n",
    "\n",
    "# Data Generators (Data pipeline) for complex-valued data\n",
    "# training set\n",
    "training_generator = tutorial.datasets.ComplexDataGeneratorMNIST(batch_size=32, \n",
    "                                    noise_level=noise_level,\n",
    "                                    shuffle=True,\n",
    "                                    mode='train')\n",
    "\n",
    "# validation set\n",
    "validation_generator = tutorial.datasets.ComplexDataGeneratorMNIST(batch_size=32, \n",
    "                                    noise_level=noise_level,\n",
    "                                    shuffle=False,\n",
    "                                    mode='val')\n",
    "\n",
    "# test set\n",
    "# ideally testing should be performed on real noisy cases and not simulated ones\n",
    "test_generator = tutorial.datasets.ComplexDataGeneratorMNIST(batch_size=1,   \n",
    "                                    shuffle=False,\n",
    "                                    mode='test')\n",
    "\n",
    "print('Training batches to process:', len(training_generator))\n",
    "print('Validation batches to process:', len(validation_generator))\n",
    "print('Test samples to process:', len(test_generator))"
   ]
  },
  {
   "cell_type": "markdown",
   "metadata": {
    "collapsed": false
   },
   "source": [
    "## Model\n",
    "Define the CNN model with its corresponding inputs and outputs.\n"
   ]
  },
  {
   "cell_type": "markdown",
   "metadata": {
    "collapsed": false
   },
   "source": [
    "### 3-layer convolutional neural network (CNN)\n"
   ]
  },
  {
   "cell_type": "code",
   "execution_count": 2,
   "metadata": {},
   "outputs": [
    {
     "name": "stdout",
     "output_type": "stream",
     "text": [
      "Model: \"3layerCNNComplex\"\n",
      "_________________________________________________________________\n",
      "Layer (type)                 Output Shape              Param #   \n",
      "=================================================================\n",
      "input_1 (InputLayer)         [(None, 28, 28, 1)]       0         \n",
      "_________________________________________________________________\n",
      "complex_conv2d (ComplexConv2 (None, 28, 28, 8)         160       \n",
      "_________________________________________________________________\n",
      "complex_conv2d_1 (ComplexCon (None, 28, 28, 8)         1168      \n",
      "_________________________________________________________________\n",
      "complex_conv2d_2 (ComplexCon (None, 28, 28, 1)         146       \n",
      "=================================================================\n",
      "Total params: 1,474\n",
      "Trainable params: 1,474\n",
      "Non-trainable params: 0\n",
      "_________________________________________________________________\n"
     ]
    }
   ],
   "source": [
    "# Generate Model\n",
    "# Let's start with a 3-layer CNN\n",
    "input = tf.keras.Input(shape=(28, 28, 1), dtype='complex64')  # define input layer and its shape, complex-valued tensors\n",
    "activation = 'cReLU'  # select activation function: complex-valued ReLU\n",
    "# convolutional layer 1: Complex-valued convolution\n",
    "conv_out1 = merlintf.keras.layers.ComplexConv2D(filters=8,                # output channels, N_fout\n",
    "                                kernel_size=(3,3),              # kernel size along x and y\n",
    "                                strides=(1,1),                  # stride performed along x and y\n",
    "                                padding='SAME',                 # padding of input to adjust output size\n",
    "                                use_bias=True,                  # learn bias values for conv layer\n",
    "                                activation=activation)(input)   # apply activation function after conv operation\n",
    "# convolutional layer 2: Complex-valued convolution\n",
    "conv_out2 = merlintf.keras.layers.ComplexConv2D(filters=8,\n",
    "                                kernel_size=(3,3),\n",
    "                                strides=(1,1),\n",
    "                                padding='SAME',\n",
    "                                use_bias=True,\n",
    "                                activation=activation)(conv_out1)\n",
    "# convolutional layer 3: Complex-valued convolution\n",
    "output    = merlintf.keras.layers.ComplexConv2D(filters=1,\n",
    "                                kernel_size=(3,3),\n",
    "                                strides=(1,1),\n",
    "                                padding='SAME',\n",
    "                                use_bias=True,\n",
    "                                activation=activation)(conv_out2)\n",
    "\n",
    "# instantiate a keras functional model: combine layers into a model with specified inputs and outputs\n",
    "model = tf.keras.Model(input, output, name='3layerCNNComplex')\n",
    "\n",
    "# print model overview\n",
    "model.summary()"
   ]
  },
  {
   "cell_type": "markdown",
   "metadata": {
    "collapsed": false
   },
   "source": [
    "### 3-layer residual convolutional neural network (CNN)"
   ]
  },
  {
   "cell_type": "code",
   "execution_count": 3,
   "metadata": {},
   "outputs": [
    {
     "name": "stdout",
     "output_type": "stream",
     "text": [
      "Model: \"Residual3layerCNNComplex\"\n",
      "__________________________________________________________________________________________________\n",
      "Layer (type)                    Output Shape         Param #     Connected to                     \n",
      "==================================================================================================\n",
      "input_2 (InputLayer)            [(None, 28, 28, 1)]  0                                            \n",
      "__________________________________________________________________________________________________\n",
      "complex_conv2d_3 (ComplexConv2D (None, 28, 28, 8)    160         input_2[0][0]                    \n",
      "__________________________________________________________________________________________________\n",
      "complex_conv2d_4 (ComplexConv2D (None, 28, 28, 8)    1168        complex_conv2d_3[0][0]           \n",
      "__________________________________________________________________________________________________\n",
      "complex_conv2d_5 (ComplexConv2D (None, 28, 28, 1)    146         complex_conv2d_4[0][0]           \n",
      "__________________________________________________________________________________________________\n",
      "add (Add)                       (None, 28, 28, 1)    0           input_2[0][0]                    \n",
      "                                                                 complex_conv2d_5[0][0]           \n",
      "==================================================================================================\n",
      "Total params: 1,474\n",
      "Trainable params: 1,474\n",
      "Non-trainable params: 0\n",
      "__________________________________________________________________________________________________\n"
     ]
    }
   ],
   "source": [
    "# Generate Model\n",
    "# Let's start with a residual 3-layer CNN\n",
    "input = tf.keras.Input(shape=(28, 28, 1), dtype='complex64')  # define input layer and its shape, complex-valued tensors\n",
    "activation = 'cReLU'  # select activation function: complex-valued ReLU\n",
    "# convolutional layer 1: Complex-valued convolution\n",
    "conv_out1 = merlintf.keras.layers.ComplexConv2D(filters=8,                # output channels, N_fout\n",
    "                                kernel_size=(3,3),              # kernel size along x and y\n",
    "                                strides=(1,1),                  # stride performed along x and y\n",
    "                                padding='SAME',                 # padding of input to adjust output size\n",
    "                                use_bias=True,                  # learn bias values for conv layer\n",
    "                                activation=activation)(input)   # apply activation function after conv operation\n",
    "# convolutional layer 2: Complex-valued convolution\n",
    "conv_out2 = merlintf.keras.layers.ComplexConv2D(filters=8,\n",
    "                                kernel_size=(3,3),\n",
    "                                strides=(1,1),\n",
    "                                padding='SAME',\n",
    "                                use_bias=True,\n",
    "                                activation=activation)(conv_out1)\n",
    "# convolutional layer 3: Complex-valued convolution\n",
    "residual    = merlintf.keras.layers.ComplexConv2D(filters=1,\n",
    "                                kernel_size=(3,3),\n",
    "                                strides=(1,1),\n",
    "                                padding='SAME',\n",
    "                                use_bias=True,\n",
    "                                activation=activation)(conv_out2)\n",
    "# residual connection\n",
    "output = tf.keras.layers.Add()([input, residual])\n",
    "\n",
    "# instantiate a keras functional model: combine layers into a model with specified inputs and outputs\n",
    "model = tf.keras.Model(input, output, name='Residual3layerCNNComplex')\n",
    "\n",
    "# print model overview\n",
    "model.summary()"
   ]
  },
  {
   "cell_type": "markdown",
   "metadata": {
    "collapsed": false
   },
   "source": [
    "### Build model\n",
    "Compile the model, assign an optimizer, loss function and validation metrics. Prepare some keras callbacks to monitor training progress."
   ]
  },
  {
   "cell_type": "code",
   "execution_count": 4,
   "metadata": {},
   "outputs": [],
   "source": [
    "# compile model\n",
    "model.compile(optimizer=tf.keras.optimizers.Adam(learning_rate=0.001),      # used optimizer with chosen learning rate\n",
    "              loss='mse',                                                   # loss function (note: TF can perform real-valued mse loss on complex-valued input) \n",
    "              metrics=['mse', 'mae'])                                       # evaluation metrics (for training and validation set)\n",
    "\n",
    "# define callbacks to monitor model\n",
    "keras_callbacks = tutorial.get_callbacks(validation_generator, model)"
   ]
  },
  {
   "cell_type": "markdown",
   "metadata": {
    "collapsed": false
   },
   "source": [
    "## Tensorboard\n",
    "Start the Tensorboard [optional] to monitor training progress and display validation outputs."
   ]
  },
  {
   "cell_type": "code",
   "execution_count": null,
   "metadata": {},
   "outputs": [],
   "source": [
    "# start Tensorboard\n",
    "%load_ext tensorboard\n",
    "%tensorboard --logdir=logs"
   ]
  },
  {
   "cell_type": "markdown",
   "metadata": {
    "collapsed": false
   },
   "source": [
    "## Training\n",
    "Train the configured and compiled model. Monitor training progress with validation set."
   ]
  },
  {
   "cell_type": "code",
   "execution_count": 5,
   "metadata": {},
   "outputs": [
    {
     "name": "stdout",
     "output_type": "stream",
     "text": [
      "Epoch 1/3\n",
      "1500/1500 [==============================] - 15s 9ms/step - loss: 0.0766 - mse: 0.0383 - mae: 0.1364 - val_loss: 0.0669 - val_mse: 0.0332 - val_mae: 0.1145\n",
      "Epoch 2/3\n",
      "1500/1500 [==============================] - 12s 8ms/step - loss: 0.0668 - mse: 0.0332 - mae: 0.1139 - val_loss: 0.0668 - val_mse: 0.0332 - val_mae: 0.1130\n",
      "Epoch 3/3\n",
      "1500/1500 [==============================] - 12s 8ms/step - loss: 0.0667 - mse: 0.0331 - mae: 0.1128 - val_loss: 0.0667 - val_mse: 0.0331 - val_mae: 0.1125\n"
     ]
    },
    {
     "data": {
      "text/plain": [
       "<tensorflow.python.keras.callbacks.History at 0x7fe541ee1cc0>"
      ]
     },
     "execution_count": 5,
     "metadata": {},
     "output_type": "execute_result"
    }
   ],
   "source": [
    "# train model with training set and evaluate its performance with the validation set\n",
    "model.fit(training_generator,                       # training set\n",
    "          validation_data=validation_generator,     # validation set\n",
    "          epochs=3,                                 # number of epochs to train the model\n",
    "          callbacks=keras_callbacks)                # callbacks to monitor or control training"
   ]
  },
  {
   "cell_type": "markdown",
   "metadata": {
    "collapsed": false
   },
   "source": [
    "## Testing\n",
    "Test the trained model to predict a denoised output and to display performance (metrics) on test set."
   ]
  },
  {
   "cell_type": "code",
   "execution_count": 6,
   "metadata": {
    "collapsed": false,
    "pycharm": {
     "name": "#%%\n"
    }
   },
   "outputs": [
    {
     "name": "stdout",
     "output_type": "stream",
     "text": [
      "10000/10000 [==============================] - 29s 3ms/step - loss: 0.0035 - mse: 0.0018 - mae: 0.0270\n"
     ]
    }
   ],
   "source": [
    "# evaluate trained model\n",
    "loss_metric_test = model.evaluate(test_generator)"
   ]
  },
  {
   "cell_type": "code",
   "execution_count": 7,
   "metadata": {},
   "outputs": [
    {
     "data": {
      "image/png": "[encoded data removed]",
      "text/plain": [
       "<Figure size 432x288 with 6 Axes>"
      ]
     },
     "metadata": {
      "needs_background": "light"
     },
     "output_type": "display_data"
    }
   ],
   "source": [
    "# predict with trained model\n",
    "inputs, outputs = test_generator.__getitem__(0)\n",
    "predicted_output = model.predict(inputs)\n",
    "\n",
    "# display the predicted output\n",
    "import matplotlib.pyplot as plt\n",
    "icase = 0  # display the first example\n",
    "plt.figure()\n",
    "plt.subplot(2,3,1)\n",
    "plt.imshow(np.squeeze(np.abs(inputs[icase,])), cmap='gray')\n",
    "plt.title('Magnitude - Noisy')\n",
    "plt.axis('off')\n",
    "plt.subplot(2,3,2)\n",
    "plt.imshow(np.squeeze(np.abs(predicted_output[icase,])), cmap='gray')\n",
    "plt.title('Magnitude - Recon')\n",
    "plt.axis('off')\n",
    "plt.subplot(2,3,3)\n",
    "plt.imshow(np.squeeze(np.abs(outputs[icase,])), cmap='gray')\n",
    "plt.title('Magnitude - Target')\n",
    "plt.axis('off')\n",
    "plt.subplot(2,3,4)\n",
    "plt.imshow(np.squeeze(np.angle(inputs[icase,])), vmin=-np.pi, vmax=np.pi)\n",
    "plt.title('Phase - Noisy')\n",
    "plt.axis('off')\n",
    "plt.subplot(2,3,5)\n",
    "plt.imshow(np.squeeze(np.angle(predicted_output[icase,])), vmin=-np.pi, vmax=np.pi)\n",
    "plt.title('Phase - Recon')\n",
    "plt.axis('off')\n",
    "plt.subplot(2,3,6)\n",
    "plt.imshow(np.squeeze(np.angle(outputs[icase,])), vmin=-np.pi, vmax=np.pi)\n",
    "plt.title('Phase - Target')\n",
    "plt.axis('off')\n",
    "plt.show()"
   ]
  }
 ],
 "metadata": {
  "interpreter": {
   "hash": "26c4402bb8476a31d8c429f22841c868a499a7e31d9c723639b1a5309d819501"
  },
  "kernelspec": {
   "display_name": "Python 3.6.11 64-bit ('optox_midas': conda)",
   "name": "python3"
  },
  "language_info": {
   "codemirror_mode": {
    "name": "ipython",
    "version": 3
   },
   "file_extension": ".py",
   "mimetype": "text/x-python",
   "name": "python",
   "nbconvert_exporter": "python",
   "pygments_lexer": "ipython3",
   "version": "3.6.11"
  },
  "pycharm": {
   "stem_cell": {
    "cell_type": "raw",
    "metadata": {
     "collapsed": false
    },
    "source": []
   }
  }
 },
 "nbformat": 4,
 "nbformat_minor": 4
}
