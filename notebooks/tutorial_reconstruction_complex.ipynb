{
 "cells": [
  {
   "cell_type": "markdown",
   "metadata": {},
   "source": [
    "# **Example 04: Unrolled network on complex-valued data with complex-valued operations**\n",
    "We first define the data pipelines to feed the data into training, validation and test set. The MNIST database is used for showcasing. Since MNIST are real-valued images, a phase is simulated and added to the images to generate a complex-valued input. The fourier transformed image serves as k-space for data consistency. Single-MR-coil processing is performed. A retrospective undersampling according to a Parallel Imaging (PI) or Compressed Sensing (CS) like trajectory is simulated and applied to the data. The task of the network is to reconstruct the undersampled data with complex-valued operations.\n",
    "\n",
    "To enable GPU support in Google Colab, please go to `Edit -> Notebook settings` and select `GPU` as hardware accelerator."
   ]
  },
  {
   "cell_type": "code",
   "execution_count": 1,
   "metadata": {
    "pycharm": {
     "name": "#%%\n"
    }
   },
   "outputs": [
    {
     "name": "stdout",
     "output_type": "stream",
     "text": [
      "ln: failed to create symbolic link '/usr/bin/nvidia-smi': Permission denied\n",
      "Thu Nov  4 19:32:50 2021       \n",
      "+-----------------------------------------------------------------------------+\n",
      "| NVIDIA-SMI 460.91.03    Driver Version: 460.91.03    CUDA Version: 11.2     |\n",
      "|-------------------------------+----------------------+----------------------+\n",
      "| GPU  Name        Persistence-M| Bus-Id        Disp.A | Volatile Uncorr. ECC |\n",
      "| Fan  Temp  Perf  Pwr:Usage/Cap|         Memory-Usage | GPU-Util  Compute M. |\n",
      "|                               |                      |               MIG M. |\n",
      "|===============================+======================+======================|\n",
      "|   0  Quadro RTX 8000     Off  | 00000000:01:00.0 Off |                  Off |\n",
      "| 33%   39C    P0    34W / 260W |    967MiB / 48593MiB |    100%      Default |\n",
      "|                               |                      |                  N/A |\n",
      "+-------------------------------+----------------------+----------------------+\n",
      "                                                                               \n",
      "+-----------------------------------------------------------------------------+\n",
      "| Processes:                                                                  |\n",
      "|  GPU   GI   CI        PID   Type   Process name                  GPU Memory |\n",
      "|        ID   ID                                                   Usage      |\n",
      "|=============================================================================|\n",
      "|    0   N/A  N/A      2272      G   /usr/lib/xorg/Xorg                104MiB |\n",
      "|    0   N/A  N/A      4093      G   /usr/lib/xorg/Xorg                679MiB |\n",
      "|    0   N/A  N/A      4223      G   /usr/bin/gnome-shell               16MiB |\n",
      "|    0   N/A  N/A      4638      G   ...AAAAAAAAA= --shared-files       39MiB |\n",
      "|    0   N/A  N/A      5288      G   ...AAAAAAAAA= --shared-files       16MiB |\n",
      "|    0   N/A  N/A      5792      G   ...AAAAAAAAA= --shared-files       46MiB |\n",
      "|    0   N/A  N/A     17849      G   ...AAAAAAAAA= --shared-files       51MiB |\n",
      "+-----------------------------------------------------------------------------+\n"
     ]
    }
   ],
   "source": [
    "# inspect the available GPU hardware\n",
    "!ln -sf /opt/bin/nvidia-smi /usr/bin/nvidia-smi\n",
    "!nvidia-smi"
   ]
  },
  {
   "cell_type": "markdown",
   "metadata": {},
   "source": [
    "## Database pipeline\n",
    "Here starts the main part of the script. First define the data pipelines (in the form of generator functions) for training, validation and test set. Retrospective undersampling is performed inside the generator functions."
   ]
  },
  {
   "cell_type": "code",
   "execution_count": 2,
   "metadata": {},
   "outputs": [
    {
     "name": "stdout",
     "output_type": "stream",
     "text": [
      "Training batches to process: 1500\n",
      "Validation batches to process: 375\n",
      "Test samples to process: 10000\n"
     ]
    }
   ],
   "source": [
    "import tensorflow as tf\n",
    "import numpy as np\n",
    "import os\n",
    "import datetime\n",
    "import tutorial\n",
    "import merlintf\n",
    "\n",
    "# initialize some parameters\n",
    "accelerations = [2, 4]  # simulate retrospectively accelerations in the range of e.g. 2x to 4x\n",
    "accel_type = 'PI'  # simulated undersampling strategy: 'PI' = Parallel Imaging, 'CS' = Compressed Sensing\n",
    "center = 0.1  # percent of fully sampled central region along ky phase-encoding, e.g. 0.1 := floor(10% * 28) ky center lines = 2 ky center lines \n",
    "\n",
    "# Data Generators (Data pipeline) for complex-valued data with k-space\n",
    "# training set\n",
    "training_generator = tutorial.datasets.ComplexRawDataGeneratorMNIST(batch_size=32, \n",
    "                                    accelerations=accelerations,\n",
    "                                    accel_type=accel_type,\n",
    "                                    center=center, \n",
    "                                    shuffle=True,\n",
    "                                    mode='train')\n",
    "\n",
    "# validation set\n",
    "validation_generator = tutorial.datasets.ComplexRawDataGeneratorMNIST(batch_size=32, \n",
    "                                    accelerations=accelerations,\n",
    "                                    accel_type=accel_type,\n",
    "                                    center=center,\n",
    "                                    shuffle=False,\n",
    "                                    mode='val')\n",
    "\n",
    "# test set\n",
    "# ideally testing should be performed on prospectively accelerated acquisitions\n",
    "test_generator = tutorial.datasets.ComplexRawDataGeneratorMNIST(batch_size=1, \n",
    "                                    accelerations=accelerations,\n",
    "                                    accel_type=accel_type,\n",
    "                                    center=center,\n",
    "                                    shuffle=False,\n",
    "                                    mode='test')\n",
    "\n",
    "print('Training batches to process:', len(training_generator))\n",
    "print('Validation batches to process:', len(validation_generator))\n",
    "print('Test samples to process:', len(test_generator))"
   ]
  },
  {
   "cell_type": "markdown",
   "metadata": {},
   "source": [
    "## Model\n",
    "Define the CNN model as an unrolled network with intermittant data consistency blocks."
   ]
  },
  {
   "cell_type": "markdown",
   "metadata": {},
   "source": [
    "### 3-layer (residual) convolutional neural network (CNN) denoising regularizer"
   ]
  },
  {
   "cell_type": "code",
   "execution_count": 3,
   "metadata": {},
   "outputs": [],
   "source": [
    "# Define denoiser model\n",
    "class Denoiser(tf.keras.Model):\n",
    "    # initialize the required layers\n",
    "    def __init__(self, filters, kernel_size=(3,3), strides=(1,1), use_bias=True, activation=None, is_residual=False, name='denoiser'):\n",
    "        super().__init__(name=name)\n",
    "        self.is_residual = is_residual\n",
    "        self.conv_out1 = merlintf.keras.layers.ComplexConv2D(filters=filters,\n",
    "                                kernel_size=kernel_size,\n",
    "                                strides=strides,\n",
    "                                padding='SAME',\n",
    "                                use_bias=use_bias,\n",
    "                                activation=activation)\n",
    "\n",
    "        self.conv_out2 = merlintf.keras.layers.ComplexConv2D(filters=filters,\n",
    "                                kernel_size=kernel_size,\n",
    "                                strides=strides,\n",
    "                                padding='SAME',\n",
    "                                use_bias=use_bias,\n",
    "                                activation=activation)\n",
    "\n",
    "        self.conv_out3 = merlintf.keras.layers.ComplexConv2D(filters=1,\n",
    "                                kernel_size=kernel_size,\n",
    "                                strides=strides,\n",
    "                                padding='SAME',\n",
    "                                use_bias=True,\n",
    "                                activation=None)\n",
    "        \n",
    "    def call(self, inputs):\n",
    "        x = self.conv_out1(inputs)\n",
    "        x = self.conv_out2(x)\n",
    "        x = self.conv_out3(x)\n",
    "        if self.is_residual:\n",
    "            x = tf.keras.layers.Add()([inputs, x])\n",
    "        return x\n"
   ]
  },
  {
   "cell_type": "markdown",
   "metadata": {},
   "source": [
    "### Unrolled reconstruction network\n",
    "Combine denoising regularizer and data consistency blocks to an unrolled reconstruction network"
   ]
  },
  {
   "cell_type": "code",
   "execution_count": 4,
   "metadata": {
    "pycharm": {
     "name": "#%%\n"
    }
   },
   "outputs": [
    {
     "name": "stdout",
     "output_type": "stream",
     "text": [
      "Model: \"unrolled_network\"\n",
      "_________________________________________________________________\n",
      "Layer (type)                 Output Shape              Param #   \n",
      "=================================================================\n",
      "denoiser (Denoiser)          multiple                  458       \n",
      "_________________________________________________________________\n",
      "dcgd (DCGD)                  multiple                  1         \n",
      "=================================================================\n",
      "Total params: 459\n",
      "Trainable params: 459\n",
      "Non-trainable params: 0\n",
      "_________________________________________________________________\n",
      "None\n"
     ]
    }
   ],
   "source": [
    "# Define unrolled reconstruction model\n",
    "class UnrolledNetwork(tf.keras.Model):\n",
    "    # initialize the required layers\n",
    "    def __init__(self, cascades, shared_params=True, is_residual=True, activation='ModReLU', name=None):\n",
    "        super().__init__(name=name)\n",
    "\n",
    "        self.T = 1 if shared_params else cascades  # shared denoiser network or (new) cascaded denoisers\n",
    "        self.T_end = cascades  # number of cascades\n",
    "\n",
    "        self.denoiser = [Denoiser(filters=4, is_residual=is_residual, activation=activation) for _ in range(self.T)]  # prepare denoising networks\n",
    "\n",
    "        A = merlintf.keras.layers.ForwardOp(center=True)\n",
    "        AH = merlintf.keras.layers.AdjointOp(center=True)\n",
    "\n",
    "        self.dc = [merlintf.keras.layers.DCGD(A, AH, weight_init=1.0, max_iter=10) for _ in range(self.T)]  # prepare data consistency blocks\n",
    "\n",
    "    # build the model in the forward path\n",
    "    def call(self, inputs):\n",
    "        x = inputs[0]                                       # undersampled image\n",
    "        for i in range(self.T_end):                         # unrolled network\n",
    "            ii = i % self.T\n",
    "            x = self.denoiser[ii](x)                    # denoising regularizer\n",
    "            x = self.dc[ii]([x,] + list(inputs[1:]))    # data consistency\n",
    "        return x\n",
    "    \n",
    "# instantiate a keras model as sub-class model\n",
    "# define network with model subclassing to control forward/backward path, training procedure, etc.\n",
    "model = UnrolledNetwork(cascades=5)\n",
    "# make one forward pass to initalize model\n",
    "inputs, _ = training_generator.__getitem__(0)\n",
    "output = model(inputs)\n",
    "\n",
    "# print model overview\n",
    "print(model.summary())"
   ]
  },
  {
   "cell_type": "markdown",
   "metadata": {},
   "source": [
    "### Build model\n",
    "Compile the model, assign an optimizer, loss function and validation metrics. Prepare some keras callbacks to monitor training progress."
   ]
  },
  {
   "cell_type": "code",
   "execution_count": 5,
   "metadata": {},
   "outputs": [],
   "source": [
    "# compile model\n",
    "model.compile(optimizer=tf.keras.optimizers.Adam(learning_rate=0.001),      # used optimizer with chosen learning rate\n",
    "              loss='mse',                                                   # loss function \n",
    "              metrics=['mse', 'mae'])                                       # evaluation metrics (for training and validation set)\n",
    "\n",
    "# define callbacks to monitor model\n",
    "keras_callbacks = tutorial.get_callbacks(validation_generator, model)"
   ]
  },
  {
   "cell_type": "markdown",
   "metadata": {},
   "source": [
    "## Tensorboard\n",
    "Start the Tensorboard [optional] to monitor training progress and display validation outputs."
   ]
  },
  {
   "cell_type": "code",
   "execution_count": 6,
   "metadata": {},
   "outputs": [
    {
     "data": {
      "text/html": [
       "\n",
       "      <iframe id=\"tensorboard-frame-d117bac4851fbe5e\" width=\"100%\" height=\"800\" frameborder=\"0\">\n",
       "      </iframe>\n",
       "      <script>\n",
       "        (function() {\n",
       "          const frame = document.getElementById(\"tensorboard-frame-d117bac4851fbe5e\");\n",
       "          const url = new URL(\"/\", window.location);\n",
       "          const port = 6006;\n",
       "          if (port) {\n",
       "            url.port = port;\n",
       "          }\n",
       "          frame.src = url;\n",
       "        })();\n",
       "      </script>\n",
       "    "
      ],
      "text/plain": [
       "<IPython.core.display.HTML object>"
      ]
     },
     "metadata": {},
     "output_type": "display_data"
    }
   ],
   "source": [
    "# start Tensorboard\n",
    "%load_ext tensorboard\n",
    "%tensorboard --logdir=logs"
   ]
  },
  {
   "cell_type": "markdown",
   "metadata": {},
   "source": [
    "## Training\n",
    "Train the configured and compiled model. Monitor training progress with validation set."
   ]
  },
  {
   "cell_type": "code",
   "execution_count": 7,
   "metadata": {},
   "outputs": [
    {
     "name": "stdout",
     "output_type": "stream",
     "text": [
      "Epoch 1/3\n",
      "1500/1500 [==============================] - 73s 46ms/step - loss: 0.2319 - mse: 0.1332 - mae: 0.1849 - val_loss: 0.0555 - val_mse: 0.0445 - val_mae: 0.1333\n",
      "Epoch 2/3\n",
      "1500/1500 [==============================] - 67s 45ms/step - loss: 0.0542 - mse: 0.0429 - mae: 0.1300 - val_loss: 0.0475 - val_mse: 0.0370 - val_mae: 0.1167\n",
      "Epoch 3/3\n",
      "1500/1500 [==============================] - 67s 45ms/step - loss: 0.0604 - mse: 0.0441 - mae: 0.1272 - val_loss: 0.0565 - val_mse: 0.0433 - val_mae: 0.1422\n"
     ]
    },
    {
     "data": {
      "text/plain": [
       "<tensorflow.python.keras.callbacks.History at 0x7fdeac3e5e80>"
      ]
     },
     "execution_count": 7,
     "metadata": {},
     "output_type": "execute_result"
    }
   ],
   "source": [
    "# train model with training set and evaluate its performance with the validation set\n",
    "model.fit(training_generator,                       # training set\n",
    "          validation_data=validation_generator,     # validation set\n",
    "          epochs=5,                                 # number of epochs to train the model\n",
    "          callbacks=keras_callbacks)                # callbacks to monitor or control training"
   ]
  },
  {
   "cell_type": "markdown",
   "metadata": {},
   "source": [
    "## Testing\n",
    "Test the trained model to predict a denoised output and to display performance (metrics) on test set."
   ]
  },
  {
   "cell_type": "code",
   "execution_count": 8,
   "metadata": {
    "collapsed": false,
    "pycharm": {
     "name": "#%%\n"
    }
   },
   "outputs": [
    {
     "name": "stdout",
     "output_type": "stream",
     "text": [
      "10000/10000 [==============================] - 171s 17ms/step - loss: 0.0577 - mse: 0.0444 - mae: 0.1440\n"
     ]
    }
   ],
   "source": [
    "# predict with trained model\n",
    "predicted_output = model.predict(test_generator)\n",
    "\n",
    "# evaluate trained model\n",
    "loss_metric_test = model.evaluate(test_generator)"
   ]
  },
  {
   "cell_type": "code",
   "execution_count": 9,
   "metadata": {},
   "outputs": [
    {
     "data": {
      "image/png": "[encoded data removed]",
      "text/plain": [
       "<Figure size 432x288 with 2 Axes>"
      ]
     },
     "metadata": {
      "needs_background": "light"
     },
     "output_type": "display_data"
    }
   ],
   "source": [
    "# display the predicted output\n",
    "import matplotlib.pyplot as plt\n",
    "icase = 0  # display the first example\n",
    "plt.figure()\n",
    "plt.subplot(1,2,1)\n",
    "plt.imshow(np.squeeze(np.abs(predicted_output[icase,])), cmap='gray')\n",
    "plt.title('Magnitude')\n",
    "plt.subplot(1,2,2)\n",
    "plt.imshow(np.squeeze(np.angle(predicted_output[icase,])))\n",
    "plt.title('Phase')\n",
    "plt.show()"
   ]
  }
 ],
 "metadata": {
  "interpreter": {
   "hash": "26c4402bb8476a31d8c429f22841c868a499a7e31d9c723639b1a5309d819501"
  },
  "kernelspec": {
   "display_name": "Python 3.6.11 64-bit ('optox_midas': conda)",
   "name": "python3"
  },
  "language_info": {
   "codemirror_mode": {
    "name": "ipython",
    "version": 3
   },
   "file_extension": ".py",
   "mimetype": "text/x-python",
   "name": "python",
   "nbconvert_exporter": "python",
   "pygments_lexer": "ipython3",
   "version": "3.6.11"
  },
  "pycharm": {
   "stem_cell": {
    "cell_type": "raw",
    "metadata": {
     "collapsed": false
    },
    "source": []
   }
  }
 },
 "nbformat": 4,
 "nbformat_minor": 4
}
